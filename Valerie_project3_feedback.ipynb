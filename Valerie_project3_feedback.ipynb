{
 "cells": [
  {
   "cell_type": "markdown",
   "metadata": {},
   "source": [
    "# Project 3 feedback\n",
    "| Requirement | Rubic   |\n",
    "|------|------|\n",
    "|   Materials must be in a clearly commented Jupyter notebook  | 1|\n",
    "|   Analyse a complex dataset & explicitly state your assumptions  | 1|\n",
    "|   Clean, impute, and explore the dataset  | 1|\n",
    "|   Justify your modeling choices and feature engineering  | 1|\n",
    "|   Plot, visualize, and interpret your data logically  | 1|\n",
    "|   Clearly outline your modeling strategy in response to the questions  | 1|\n",
    "|   Explain your results to a technical audience | 1|\n",
    "\n",
    "\n",
    "__Qualitative feedback:__\n",
    "* Please submit a single notebook for Project 4. I didn't know which notebook to look at first.\n",
    "* You referenced a notebook in data_wrangling.ipynb (model_draft) that didn't appear to be part of your submission.\n",
    "* Make sure that your visualisation labels are always readable. There were some charts in your notebooks where the labels overlapped so much they were illegible. \n",
    "* Really ensure that you read the brief. Question 2 asked you to model the changeable features on the variance from your first model. In other words, the residuals from your first model should have been used as the target for your second. \n",
    "* Remember that a key responsibility of a data scientist is to be able to provide the 'So what...' to the analysis and predictions that they produce. In this project, as an employee for the real estate organisation, your feedback should have specifically pulled out the features that are a very good indication of sale price, both fixed features as well as those that could be improved in order to drive up that price. A data scientist should always tie the objective of a project back to how it will impact the organisation, whether that be their bottom line, product improvement or customer retention. "
   ]
  },
  {
   "cell_type": "code",
   "execution_count": null,
   "metadata": {
    "collapsed": true
   },
   "outputs": [],
   "source": []
  }
 ],
 "metadata": {
  "anaconda-cloud": {},
  "kernelspec": {
   "display_name": "Python [conda env:py27]",
   "language": "python",
   "name": "conda-env-py27-py"
  },
  "language_info": {
   "codemirror_mode": {
    "name": "ipython",
    "version": 2
   },
   "file_extension": ".py",
   "mimetype": "text/x-python",
   "name": "python",
   "nbconvert_exporter": "python",
   "pygments_lexer": "ipython2",
   "version": "2.7.13"
  }
 },
 "nbformat": 4,
 "nbformat_minor": 2
}
