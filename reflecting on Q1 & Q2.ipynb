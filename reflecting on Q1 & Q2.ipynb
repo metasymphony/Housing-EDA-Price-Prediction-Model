{
 "cells": [
  {
   "cell_type": "markdown",
   "metadata": {},
   "source": [
    "# Question 1\n",
    "<br>\n",
    "\n",
    "\n",
    "**Your goals:**\n",
    "1. Perform any cleaning, feature engineering, and EDA you deem necessary.\n",
    "- Be sure to remove any houses that are not residential from the dataset.\n",
    "- Identify **fixed** features that can predict price.\n",
    "- Train a model on pre-2010 data and evaluate its performance on the 2010 houses.\n",
    "- Characterize your model. How well does it perform? What are the best estimates of price?\n",
    "\n",
    "> **Note:** The EDA and feature engineering component to this project is not trivial! Be sure to always think critically and creatively. Justify your actions! Use the data description file!"
   ]
  },
  {
   "cell_type": "markdown",
   "metadata": {},
   "source": [
    "## Reflections\n",
    "<br>\n",
    "\n",
    "1. <b>Perform any cleaning, feature engineering, and EDA you deem necessary.</b><br><br>\n",
    "All done in <b>`EDA`</b> and <b>`data_wrangling`</b> notebooks (<b>`data_wrangling`</b> is neater : )<br><br>\n",
    "Instead of cleaning, I selected columns with no null values for my model. Initially I tried to remove outliers, but decided it is better to keep them as they don't contain mistakes, and if this was a real life project, the outliers may be more useful in the future as more data is acquired.<br><br>\n",
    "<u>Feature engineering</u>: used <b>`pd.get_dummies`</b> on columns selected through EDA to make boolean values, and made them into new columns. Explained in detail in the <b>`data_wrangling`</b> notebook.<br><br>\n",
    "- <b>Be sure to remove any houses that are not residential from the dataset.</b> <br><br>\n",
    "Done at the very start with:<br><b>`house = house.loc[house.MSZoning  != 'C (all)']`</b><br><br><br>\n",
    "- <b>Train a model on pre-2010 data and evaluate its performance on the 2010 houses.</b><br> <br>Saved as <b>`model_1`</b>, including testing with various dimensions. <br>\n",
    "R^2 score was ~0.795, which is good considering I was using only features which cannot be renovated. Presumably the renovation quality accounts for a large part of the price also.<br><br><br>\n",
    "\n",
    "- <b>Identify <u>fixed</u> features that can predict price.</b> <br><br>\n",
    "Selection process can be found in <b>`EDA`</b>. There is also a spreadsheet where the struggle is colour coded.<br><br><br>\n",
    "- <b>Characterize your model. How well does it perform? What are the best estimates of price?</b><br>\n",
    "\n",
    "\n",
    "\n",
    "\n"
   ]
  },
  {
   "cell_type": "markdown",
   "metadata": {},
   "source": [
    "I used a linear regression model because I thought we were supposed to, but it performed fairly well, considering. I would have liked to experiment with decision trees also, especially for Question 3, but alas I did not have time to do so.<br><br>\n",
    "Although I used <b>`elastic net`</b> to aid with feature selection, it was visually delightful but in the end my selections were made through trial and error.<br><br>\n",
    "The features I ended up using were:<br>\n",
    "    `'LotArea', 'age', 'Top5', 'GrLivArea', 'GarageCars', 'TotalBsmtSF', 'FancyHouse', 'TallHouse', 'LessDense'`<br><br>\n",
    "<b>`elastic net`</b> did not like `LotArea` or `GrLivArea`, but putting them back in hugely improved preformance.<br>\n",
    "- `FancyHouse`: boolean where free standing houses and edge town houses are 1, rest are 0.<br><br>\n",
    "- `TallHouse`: boolean of 1 storey vs 2 storey/other houses.<br><br>\n",
    "- `LessDense`: boolean of density in residential area.<br><br>\n",
    "- `top5`: boolean of top 5 most expensive neighbourhoods. <i>Instead I initially tried to assign ranks by expensiveness to neighbourhoods, which Srikanta helped a lot with, but new and exciting recurring error messages kept me from including these. If there was more time, I am sure I'd work out how to fix it.</i><br><br>\n",
    "- `age`: age of house.<br>\n"
   ]
  },
  {
   "cell_type": "markdown",
   "metadata": {},
   "source": [
    "# Question 2\n",
    "<br>\n",
    "\n",
    "**Your goals:**\n",
    "1. Evaluate the effect in dollars of the renovate-able features. \n",
    "- How would your company use this second model and its coefficients to determine whether they should buy a property or not? Explain how the company can use the two models you have built to determine if they can make money. \n",
    "- Investigate how much of the variance in price remaining is explained by these features.\n",
    "- Do you trust your model? Should it be used to evaluate which properties to buy and fix up?"
   ]
  },
  {
   "cell_type": "markdown",
   "metadata": {
    "collapsed": true
   },
   "source": [
    "## Reflection\n",
    "\n",
    "While the effect of some kinds of renovations of the Sale Price are more apparent, not every renovation would be beneficial.\n",
    "\n",
    "To make the decision easier, you can find the feature you are thinking of renovating, and comparing it to the level you want to renovate it to:"
   ]
  },
  {
   "cell_type": "markdown",
   "metadata": {},
   "source": [
    "![alt text](./corrsort.png \"Title\")\n"
   ]
  },
  {
   "cell_type": "markdown",
   "metadata": {},
   "source": [
    "The model can be used to evaluate potential price of the house as it is, and then compare it to a renovated price, by giving it the relevant attributes to compare. (ie. set the current house info as one row as y in model, and the features you want to renovate to in the next row. Also supply the relevant features into the training set.)\n",
    "\n",
    "This is probably not the most optimal way of going about it, and a decision tree may be a better approach. \n",
    "\n",
    "However, the model would still be helpful in assessing the viability of renovastion projects, if not difinitive."
   ]
  },
  {
   "cell_type": "code",
   "execution_count": null,
   "metadata": {
    "collapsed": true
   },
   "outputs": [],
   "source": []
  }
 ],
 "metadata": {
  "kernelspec": {
   "display_name": "Python 3",
   "language": "python",
   "name": "python3"
  },
  "language_info": {
   "codemirror_mode": {
    "name": "ipython",
    "version": 3
   },
   "file_extension": ".py",
   "mimetype": "text/x-python",
   "name": "python",
   "nbconvert_exporter": "python",
   "pygments_lexer": "ipython3",
   "version": "3.6.3"
  },
  "varInspector": {
   "cols": {
    "lenName": 16,
    "lenType": 16,
    "lenVar": 40
   },
   "kernels_config": {
    "python": {
     "delete_cmd_postfix": "",
     "delete_cmd_prefix": "del ",
     "library": "var_list.py",
     "varRefreshCmd": "print(var_dic_list())"
    },
    "r": {
     "delete_cmd_postfix": ") ",
     "delete_cmd_prefix": "rm(",
     "library": "var_list.r",
     "varRefreshCmd": "cat(var_dic_list()) "
    }
   },
   "types_to_exclude": [
    "module",
    "function",
    "builtin_function_or_method",
    "instance",
    "_Feature"
   ],
   "window_display": false
  }
 },
 "nbformat": 4,
 "nbformat_minor": 2
}
