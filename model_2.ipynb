{
 "cells": [
  {
   "cell_type": "code",
   "execution_count": 1,
   "metadata": {},
   "outputs": [
    {
     "data": {
      "application/javascript": [
       "IPython.notebook.set_autosave_interval(10000)"
      ]
     },
     "metadata": {},
     "output_type": "display_data"
    },
    {
     "name": "stdout",
     "output_type": "stream",
     "text": [
      "Autosaving every 10 seconds\n"
     ]
    }
   ],
   "source": [
    "import pandas as pd\n",
    "import numpy as np\n",
    "import scipy.stats as stats\n",
    "import seaborn as sns\n",
    "import matplotlib.pyplot as plt\n",
    "import csv\n",
    "\n",
    "\n",
    "plt.style.use('bmh')\n",
    "sns.set_style('darkgrid')\n",
    "\n",
    "%matplotlib inline\n",
    "%config InlineBackend.figure_format = 'retina'\n",
    "%autosave 10"
   ]
  },
  {
   "cell_type": "code",
   "execution_count": 2,
   "metadata": {
    "collapsed": true
   },
   "outputs": [],
   "source": [
    "from sklearn.preprocessing import StandardScaler\n",
    "from sklearn.linear_model import LinearRegression\n",
    "from sklearn.model_selection import train_test_split\n",
    "from sklearn.metrics import mean_squared_error, r2_score\n",
    "sstrain = StandardScaler()\n",
    "sstest = StandardScaler()"
   ]
  },
  {
   "cell_type": "code",
   "execution_count": 3,
   "metadata": {
    "collapsed": true
   },
   "outputs": [],
   "source": [
    "house = pd.read_csv('./house_1.csv')\n"
   ]
  },
  {
   "cell_type": "code",
   "execution_count": 4,
   "metadata": {
    "scrolled": true
   },
   "outputs": [
    {
     "data": {
      "text/html": [
       "<div>\n",
       "<style>\n",
       "    .dataframe thead tr:only-child th {\n",
       "        text-align: right;\n",
       "    }\n",
       "\n",
       "    .dataframe thead th {\n",
       "        text-align: left;\n",
       "    }\n",
       "\n",
       "    .dataframe tbody tr th {\n",
       "        vertical-align: top;\n",
       "    }\n",
       "</style>\n",
       "<table border=\"1\" class=\"dataframe\">\n",
       "  <thead>\n",
       "    <tr style=\"text-align: right;\">\n",
       "      <th></th>\n",
       "      <th>Unnamed: 0</th>\n",
       "      <th>SalePrice</th>\n",
       "      <th>age</th>\n",
       "      <th>FullBath</th>\n",
       "      <th>HalfBath</th>\n",
       "      <th>BedroomAbvGr</th>\n",
       "      <th>YrSold</th>\n",
       "      <th>Top5</th>\n",
       "      <th>LotArea</th>\n",
       "      <th>YearBuilt</th>\n",
       "      <th>...</th>\n",
       "      <th>LessDense</th>\n",
       "      <th>GarageCars</th>\n",
       "      <th>TotalBsmtSF</th>\n",
       "      <th>exterior</th>\n",
       "      <th>aircon</th>\n",
       "      <th>kitQ</th>\n",
       "      <th>BFT</th>\n",
       "      <th>OverallCond</th>\n",
       "      <th>OverallQual</th>\n",
       "      <th>ABNORMAL</th>\n",
       "    </tr>\n",
       "  </thead>\n",
       "  <tbody>\n",
       "    <tr>\n",
       "      <th>0</th>\n",
       "      <td>0</td>\n",
       "      <td>208500</td>\n",
       "      <td>7</td>\n",
       "      <td>2</td>\n",
       "      <td>1</td>\n",
       "      <td>3</td>\n",
       "      <td>2008</td>\n",
       "      <td>0</td>\n",
       "      <td>8450</td>\n",
       "      <td>2003</td>\n",
       "      <td>...</td>\n",
       "      <td>1</td>\n",
       "      <td>2</td>\n",
       "      <td>856</td>\n",
       "      <td>2</td>\n",
       "      <td>1</td>\n",
       "      <td>0</td>\n",
       "      <td>1</td>\n",
       "      <td>5</td>\n",
       "      <td>7</td>\n",
       "      <td>0</td>\n",
       "    </tr>\n",
       "    <tr>\n",
       "      <th>1</th>\n",
       "      <td>1</td>\n",
       "      <td>181500</td>\n",
       "      <td>34</td>\n",
       "      <td>2</td>\n",
       "      <td>0</td>\n",
       "      <td>3</td>\n",
       "      <td>2007</td>\n",
       "      <td>1</td>\n",
       "      <td>9600</td>\n",
       "      <td>1976</td>\n",
       "      <td>...</td>\n",
       "      <td>1</td>\n",
       "      <td>2</td>\n",
       "      <td>1262</td>\n",
       "      <td>1</td>\n",
       "      <td>1</td>\n",
       "      <td>0</td>\n",
       "      <td>0</td>\n",
       "      <td>8</td>\n",
       "      <td>6</td>\n",
       "      <td>0</td>\n",
       "    </tr>\n",
       "    <tr>\n",
       "      <th>2</th>\n",
       "      <td>2</td>\n",
       "      <td>223500</td>\n",
       "      <td>9</td>\n",
       "      <td>2</td>\n",
       "      <td>1</td>\n",
       "      <td>3</td>\n",
       "      <td>2008</td>\n",
       "      <td>0</td>\n",
       "      <td>11250</td>\n",
       "      <td>2001</td>\n",
       "      <td>...</td>\n",
       "      <td>1</td>\n",
       "      <td>2</td>\n",
       "      <td>920</td>\n",
       "      <td>2</td>\n",
       "      <td>1</td>\n",
       "      <td>0</td>\n",
       "      <td>1</td>\n",
       "      <td>5</td>\n",
       "      <td>7</td>\n",
       "      <td>0</td>\n",
       "    </tr>\n",
       "    <tr>\n",
       "      <th>3</th>\n",
       "      <td>3</td>\n",
       "      <td>140000</td>\n",
       "      <td>95</td>\n",
       "      <td>1</td>\n",
       "      <td>0</td>\n",
       "      <td>3</td>\n",
       "      <td>2006</td>\n",
       "      <td>0</td>\n",
       "      <td>9550</td>\n",
       "      <td>1915</td>\n",
       "      <td>...</td>\n",
       "      <td>1</td>\n",
       "      <td>3</td>\n",
       "      <td>756</td>\n",
       "      <td>0</td>\n",
       "      <td>1</td>\n",
       "      <td>0</td>\n",
       "      <td>0</td>\n",
       "      <td>5</td>\n",
       "      <td>7</td>\n",
       "      <td>1</td>\n",
       "    </tr>\n",
       "    <tr>\n",
       "      <th>4</th>\n",
       "      <td>4</td>\n",
       "      <td>250000</td>\n",
       "      <td>10</td>\n",
       "      <td>2</td>\n",
       "      <td>1</td>\n",
       "      <td>4</td>\n",
       "      <td>2008</td>\n",
       "      <td>1</td>\n",
       "      <td>14260</td>\n",
       "      <td>2000</td>\n",
       "      <td>...</td>\n",
       "      <td>1</td>\n",
       "      <td>3</td>\n",
       "      <td>1145</td>\n",
       "      <td>2</td>\n",
       "      <td>1</td>\n",
       "      <td>0</td>\n",
       "      <td>1</td>\n",
       "      <td>5</td>\n",
       "      <td>8</td>\n",
       "      <td>0</td>\n",
       "    </tr>\n",
       "  </tbody>\n",
       "</table>\n",
       "<p>5 rows × 24 columns</p>\n",
       "</div>"
      ],
      "text/plain": [
       "   Unnamed: 0  SalePrice  age  FullBath  HalfBath  BedroomAbvGr  YrSold  Top5  \\\n",
       "0           0     208500    7         2         1             3    2008     0   \n",
       "1           1     181500   34         2         0             3    2007     1   \n",
       "2           2     223500    9         2         1             3    2008     0   \n",
       "3           3     140000   95         1         0             3    2006     0   \n",
       "4           4     250000   10         2         1             4    2008     1   \n",
       "\n",
       "   LotArea  YearBuilt    ...     LessDense  GarageCars  TotalBsmtSF  exterior  \\\n",
       "0     8450       2003    ...             1           2          856         2   \n",
       "1     9600       1976    ...             1           2         1262         1   \n",
       "2    11250       2001    ...             1           2          920         2   \n",
       "3     9550       1915    ...             1           3          756         0   \n",
       "4    14260       2000    ...             1           3         1145         2   \n",
       "\n",
       "   aircon  kitQ  BFT  OverallCond  OverallQual  ABNORMAL  \n",
       "0       1     0    1            5            7         0  \n",
       "1       1     0    0            8            6         0  \n",
       "2       1     0    1            5            7         0  \n",
       "3       1     0    0            5            7         1  \n",
       "4       1     0    1            5            8         0  \n",
       "\n",
       "[5 rows x 24 columns]"
      ]
     },
     "execution_count": 4,
     "metadata": {},
     "output_type": "execute_result"
    }
   ],
   "source": [
    "house.head()"
   ]
  },
  {
   "cell_type": "code",
   "execution_count": 5,
   "metadata": {},
   "outputs": [
    {
     "name": "stdout",
     "output_type": "stream",
     "text": [
      "<class 'pandas.core.frame.DataFrame'>\n",
      "RangeIndex: 1450 entries, 0 to 1449\n",
      "Data columns (total 24 columns):\n",
      "Unnamed: 0      1450 non-null int64\n",
      "SalePrice       1450 non-null int64\n",
      "age             1450 non-null int64\n",
      "FullBath        1450 non-null int64\n",
      "HalfBath        1450 non-null int64\n",
      "BedroomAbvGr    1450 non-null int64\n",
      "YrSold          1450 non-null int64\n",
      "Top5            1450 non-null int64\n",
      "LotArea         1450 non-null int64\n",
      "YearBuilt       1450 non-null int64\n",
      "GrLivArea       1450 non-null int64\n",
      "GarageArea      1450 non-null int64\n",
      "FancyHouse      1450 non-null int64\n",
      "TallHouse       1450 non-null int64\n",
      "LessDense       1450 non-null int64\n",
      "GarageCars      1450 non-null int64\n",
      "TotalBsmtSF     1450 non-null int64\n",
      "exterior        1450 non-null int64\n",
      "aircon          1450 non-null int64\n",
      "kitQ            1450 non-null int64\n",
      "BFT             1450 non-null int64\n",
      "OverallCond     1450 non-null int64\n",
      "OverallQual     1450 non-null int64\n",
      "ABNORMAL        1450 non-null int64\n",
      "dtypes: int64(24)\n",
      "memory usage: 272.0 KB\n"
     ]
    }
   ],
   "source": [
    "house.info()"
   ]
  },
  {
   "cell_type": "code",
   "execution_count": 6,
   "metadata": {},
   "outputs": [
    {
     "data": {
      "text/plain": [
       "Index(['Unnamed: 0', 'SalePrice', 'age', 'FullBath', 'HalfBath',\n",
       "       'BedroomAbvGr', 'YrSold', 'Top5', 'LotArea', 'YearBuilt', 'GrLivArea',\n",
       "       'GarageArea', 'FancyHouse', 'TallHouse', 'LessDense', 'GarageCars',\n",
       "       'TotalBsmtSF', 'exterior', 'aircon', 'kitQ', 'BFT', 'OverallCond',\n",
       "       'OverallQual', 'ABNORMAL'],\n",
       "      dtype='object')"
      ]
     },
     "execution_count": 6,
     "metadata": {},
     "output_type": "execute_result"
    }
   ],
   "source": [
    "house.columns"
   ]
  },
  {
   "cell_type": "code",
   "execution_count": 7,
   "metadata": {},
   "outputs": [
    {
     "data": {
      "application/vnd.jupyter.widget-view+json": {
       "model_id": "2f25a60f74424b3db07012499836d478",
       "version_major": 2,
       "version_minor": 0
      },
      "text/plain": [
       "A Jupyter Widget"
      ]
     },
     "metadata": {},
     "output_type": "display_data"
    },
    {
     "data": {
      "text/plain": [
       "<function __main__.enet_plot_runner>"
      ]
     },
     "execution_count": 7,
     "metadata": {},
     "output_type": "execute_result"
    }
   ],
   "source": [
    "from sklearn.linear_model import ElasticNet\n",
    "from ipywidgets import *\n",
    "from cycler import cycler\n",
    "\n",
    "\n",
    "X = house[[\n",
    "    'age', 'FullBath', 'HalfBath','BedroomAbvGr', 'Top5', 'LotArea', \n",
    "    'GrLivArea', 'FancyHouse', 'TallHouse', 'LessDense', \n",
    "    'GarageCars', 'TotalBsmtSF', \n",
    "    'exterior', 'aircon', 'kitQ', 'BFT', \n",
    "    'OverallCond', 'OverallQual'\n",
    "]]\n",
    "\n",
    "y = house[['SalePrice']]\n",
    "\n",
    "\n",
    "\n",
    "def coef_plotter(alphas, coefs, feature_names, to_alpha, regtype='ridge'):\n",
    "    \n",
    "    # Get the full range of alphas before subsetting to keep the plots from \n",
    "    # resetting axes each time. (We use these values to set static axes later).\n",
    "    amin = np.min(alphas)\n",
    "    amax = np.max(alphas)\n",
    "    \n",
    "    # Subset the alphas and coefficients to just the ones below the set limit\n",
    "    # from the interactive widget:\n",
    "    alphas = [a for a in alphas if a <= to_alpha]\n",
    "    coefs = coefs[0:len(alphas)]\n",
    "    \n",
    "    # Get some colors from seaborn:\n",
    "    colors = sns.color_palette(\"husl\", len(coefs[0]))\n",
    "    \n",
    "    # Get the figure and reset the size to be wider:\n",
    "    fig = plt.figure()\n",
    "    fig.set_size_inches(18,5)\n",
    "\n",
    "    # We have two axes this time on our figure. \n",
    "    # The fig.add_subplot adds axes to our figure. The number inside stands for:\n",
    "    #[figure_rows|figure_cols|position_of_current_axes]\n",
    "    ax1 = fig.add_subplot(121)\n",
    "    \n",
    "    # Give it the color cycler:\n",
    "    ax1.set_prop_cycle(cycler('color', colors))\n",
    "    \n",
    "    # Print a vertical line showing our current alpha threshold:\n",
    "    ax1.axvline(to_alpha, lw=2, ls='dashed', c='k', alpha=0.4)\n",
    "    \n",
    "    # Plot the lines of the alphas on x-axis and coefficients on y-axis\n",
    "    ax1.plot(alphas, coefs, lw=2)\n",
    "    \n",
    "    # set labels for axes:\n",
    "    ax1.set_xlabel('alpha', fontsize=20)\n",
    "    ax1.set_ylabel('coefficients', fontsize=20)\n",
    "    \n",
    "    # If this is for the ridge, set this to a log scale on the x-axis:\n",
    "    if regtype == 'ridge':\n",
    "        ax1.set_xscale('log')\n",
    "    \n",
    "    # Enforce the axis limits:\n",
    "    ax1.set_xlim([amin, amax])\n",
    "    \n",
    "    # Put a title on the axis\n",
    "    ax1.set_title(regtype+' coef paths\\n', fontsize=20)\n",
    "    \n",
    "    # Get the ymin and ymax for this axis to enforce it to be the same on the \n",
    "    # second chart:\n",
    "    ymin, ymax = ax1.get_ylim()\n",
    "\n",
    "    # Add our second axes for the barplot in position 2:\n",
    "    ax2 = fig.add_subplot(122)\n",
    "    \n",
    "    # Position the bars according to their index from the feature names variable:\n",
    "    ax2.bar(range(1, len(feature_names)+1), coefs[-1], align='center', color=colors)\n",
    "    ax2.set_xticks(range(1, len(feature_names)+1))\n",
    "    \n",
    "    # Reset the ticks from numbers to acutally be the names:\n",
    "    ax2.set_xticklabels(feature_names, rotation=90, fontsize=12)\n",
    "    \n",
    "    # enforce limits and add titles, labels\n",
    "    ax2.set_ylim([ymin, ymax])\n",
    "    ax2.set_title(regtype+' predictor coefs\\n', fontsize=20)\n",
    "    ax2.set_xlabel('coefficients', fontsize=20)\n",
    "    ax2.set_ylabel('alpha', fontsize=20)\n",
    "    \n",
    "    plt.show()\n",
    "\n",
    "\n",
    "def elasticnet_coefs(X, Y, alphas):\n",
    "    coefs = []\n",
    "    enet_reg = ElasticNet()\n",
    "    for a in alphas:\n",
    "        enet_reg.set_params(alpha=a, l1_ratio=0.05)\n",
    "        enet_reg.fit(X, Y)\n",
    "        coefs.append(enet_reg.coef_)\n",
    "        \n",
    "    return coefs\n",
    "\n",
    "enet_alphas = np.arange(0.01, 1.0, 0.005)\n",
    "enet_coefs = elasticnet_coefs(X, y, enet_alphas)\n",
    "\n",
    "def enet_plot_runner(alpha=0.01):\n",
    "    coef_plotter(enet_alphas, enet_coefs, X.columns, alpha, regtype='elastic net')\n",
    "\n",
    "interact(enet_plot_runner, alpha=(0.0,1.0,0.005))"
   ]
  },
  {
   "cell_type": "code",
   "execution_count": 8,
   "metadata": {},
   "outputs": [
    {
     "data": {
      "text/plain": [
       "Index(['Unnamed: 0', 'SalePrice', 'age', 'FullBath', 'HalfBath',\n",
       "       'BedroomAbvGr', 'YrSold', 'Top5', 'LotArea', 'YearBuilt', 'GrLivArea',\n",
       "       'GarageArea', 'FancyHouse', 'TallHouse', 'LessDense', 'GarageCars',\n",
       "       'TotalBsmtSF', 'exterior', 'aircon', 'kitQ', 'BFT', 'OverallCond',\n",
       "       'OverallQual', 'ABNORMAL'],\n",
       "      dtype='object')"
      ]
     },
     "execution_count": 8,
     "metadata": {},
     "output_type": "execute_result"
    }
   ],
   "source": [
    "house.columns"
   ]
  },
  {
   "cell_type": "code",
   "execution_count": 9,
   "metadata": {},
   "outputs": [
    {
     "data": {
      "text/plain": [
       "array([2006, 2007, 2008, 2009, 2010])"
      ]
     },
     "execution_count": 9,
     "metadata": {},
     "output_type": "execute_result"
    }
   ],
   "source": [
    "np.sort(house['YrSold'].unique())"
   ]
  },
  {
   "cell_type": "code",
   "execution_count": 10,
   "metadata": {
    "collapsed": true
   },
   "outputs": [],
   "source": [
    "old = house['YrSold'] < 2010\n",
    "new = house['YrSold'] == 2010"
   ]
  },
  {
   "cell_type": "code",
   "execution_count": 11,
   "metadata": {
    "collapsed": true
   },
   "outputs": [],
   "source": [
    "# #'age', 'FullBath', 'HalfBath',\n",
    "#        'BedroomAbvGr', 'Top5', 'LotArea', 'GrLivArea',\n",
    "#        'FancyHouse', 'TallHouse', 'LessDense', 'GarageCars',\n",
    "#        'TotalBsmtSF', 'exterior', 'aircon', 'kitQ', 'BFT', \n",
    "#       'OverallCond','OverallQual'\n",
    "\n",
    "Xtrain = house[old]\n",
    "ytrain = Xtrain[['SalePrice']]\n",
    "Xtrain = Xtrain[[\n",
    "    'LotArea', 'age', 'Top5', 'GrLivArea', 'GarageCars', 'TotalBsmtSF', \n",
    "    'FancyHouse', 'TallHouse', 'LessDense', 'OverallCond','OverallQual'\n",
    "]]\n",
    "\n",
    "Xtrain = sstrain.fit_transform(Xtrain)\n",
    "#\n",
    "#------------------------------------------------------------#\n",
    "Xtest = house[new]\n",
    "ytest = Xtest[['SalePrice']]\n",
    "Xtest = Xtest[[\n",
    "    'LotArea', 'age', 'Top5', 'GrLivArea', 'GarageCars', 'TotalBsmtSF', \n",
    "    'FancyHouse', 'TallHouse', 'LessDense', 'OverallCond','OverallQual'\n",
    "]]\n",
    "\n",
    "Xtest = sstest.fit_transform(Xtest)\n",
    "\n",
    "\n",
    "#------------------------------------------------------------#\n",
    "#     'LotArea', 'age', 'Top5', 'GrLivArea', 'GarageCars', 'TotalBsmtSF', 'FancyHouse', 'TallHouse', 'LessDense'\n"
   ]
  },
  {
   "cell_type": "code",
   "execution_count": 12,
   "metadata": {},
   "outputs": [
    {
     "name": "stdout",
     "output_type": "stream",
     "text": [
      "0.808371969266\n"
     ]
    },
    {
     "data": {
      "text/plain": [
       "array([[  4541.93619394, -12205.12961815,  15199.80185061,  29425.86341578,\n",
       "          8736.45142537,   5411.92142002,   4398.95983406,  -4340.61630393,\n",
       "          3399.96714523,   7867.60149581,  22751.95640885]])"
      ]
     },
     "execution_count": 12,
     "metadata": {},
     "output_type": "execute_result"
    }
   ],
   "source": [
    "linreg = LinearRegression()\n",
    "\n",
    "linreg.fit(X = Xtrain, y = ytrain)\n",
    "yhat = linreg.predict(Xtest)\n",
    "linreg.score(Xtest, ytest)\n",
    "\n",
    "print(linreg.score(Xtest, ytest))\n",
    "linreg.coef_\n"
   ]
  },
  {
   "cell_type": "code",
   "execution_count": 13,
   "metadata": {
    "collapsed": true
   },
   "outputs": [],
   "source": [
    "# plt.figure(figsize=(10, 20))\n",
    "# plt.scatter(yhat, ytest)\n",
    "# plt.xlabel(\"predicted\")\n",
    "# plt.ylabel(\"actual\")\n"
   ]
  },
  {
   "cell_type": "code",
   "execution_count": 14,
   "metadata": {},
   "outputs": [
    {
     "data": {
      "image/png": "[encoded data removed]",
      "text/plain": [
       "<matplotlib.figure.Figure at 0x1146e9710>"
      ]
     },
     "metadata": {
      "image/png": {
       "height": 610,
       "width": 1182
      }
     },
     "output_type": "display_data"
    },
    {
     "name": "stdout",
     "output_type": "stream",
     "text": [
      "score:  0.808371969266\n"
     ]
    }
   ],
   "source": [
    "predictions  =  linreg.predict(Xtest)\n",
    "score        =  linreg.score(Xtest, ytest)\n",
    "\n",
    "\n",
    "# Plot the model\n",
    "plt.figure(figsize=(20,10))\n",
    "plt.scatter(ytest, yhat, s=30, c='teal', marker='+', alpha=0.8)\n",
    "plt.xlabel(\"actual values\")\n",
    "plt.ylabel(\"predicted values\")\n",
    "plt.xticks(rotation='vertical')\n",
    "\n",
    "\n",
    "\n",
    "plt.show()\n",
    "\n",
    "print(\"score: \", score)"
   ]
  },
  {
   "cell_type": "code",
   "execution_count": 15,
   "metadata": {
    "collapsed": true
   },
   "outputs": [],
   "source": [
    "#try totalbasement instead of first floor, and garage cars instead of garage area"
   ]
  },
  {
   "cell_type": "code",
   "execution_count": 16,
   "metadata": {
    "collapsed": true
   },
   "outputs": [],
   "source": [
    "#0.769741491999 - without houses priced over 500000\n",
    "#0.727363377592 - without very large houses\n",
    "#0.690728574497 - without 'FancyHouse', 'TallHouse', 'LessDense'\n",
    "#0.748897866064 - without GarageCars, TotalBsmtSF\n",
    "#0.795242498504 - current model1\n",
    "#0.776281790089 - without LotArea\n",
    "#0.595763462689 - 'age', 'BedroomAbvGr', 'HalfBath', 'Top5', 'GarageCars', 'FancyHouse', 'TallHouse', 'LessDense'\n"
   ]
  },
  {
   "cell_type": "code",
   "execution_count": 17,
   "metadata": {
    "collapsed": true
   },
   "outputs": [],
   "source": [
    "#0.795242498504 - model 1 current model\n",
    "#'LotArea', 'age', 'Top5', 'GrLivArea', 'GarageCars', 'TotalBsmtSF', 'FancyHouse', 'TallHouse', 'LessDense'\n"
   ]
  },
  {
   "cell_type": "code",
   "execution_count": 18,
   "metadata": {
    "collapsed": true
   },
   "outputs": [],
   "source": [
    "#0.847136545881 -- without 'OverallCond', 'OverallQual'\n",
    "#'LotArea', 'age', 'Top5', 'GrLivArea', 'GarageCars', 'TotalBsmtSF', 'FancyHouse', 'TallHouse', 'LessDense','exterior', 'aircon', 'kitQ', 'BFT'"
   ]
  },
  {
   "cell_type": "code",
   "execution_count": 19,
   "metadata": {
    "collapsed": true
   },
   "outputs": [],
   "source": [
    "#0.842053656762 -- add kitchen only"
   ]
  },
  {
   "cell_type": "code",
   "execution_count": 20,
   "metadata": {
    "collapsed": true
   },
   "outputs": [],
   "source": [
    "#0.808371969266 --w 'OverallCond', 'OverallQual' but no kitchen etc"
   ]
  },
  {
   "cell_type": "code",
   "execution_count": 21,
   "metadata": {
    "collapsed": true
   },
   "outputs": [],
   "source": [
    "#0.848314681837 --\n",
    "#     'LotArea', 'age', 'Top5', 'GrLivArea', 'GarageCars', 'TotalBsmtSF', \n",
    "#     'FancyHouse', 'TallHouse', 'LessDense', 'OverallCond', 'OverallQual',\n",
    "#     'kitQ', 'BFT'"
   ]
  },
  {
   "cell_type": "code",
   "execution_count": 22,
   "metadata": {
    "collapsed": true
   },
   "outputs": [],
   "source": [
    "#0.84937710217 --doing well\n",
    "#     'LotArea', 'age', 'Top5', 'GrLivArea', 'GarageCars', 'TotalBsmtSF', \n",
    "#     'FancyHouse', 'TallHouse', 'LessDense', 'OverallCond', 'OverallQual',\n",
    "#     'exterior', 'aircon', 'kitQ', 'BFT'"
   ]
  },
  {
   "cell_type": "code",
   "execution_count": 23,
   "metadata": {
    "collapsed": true
   },
   "outputs": [],
   "source": [
    "##EVERYTHING??#\n",
    "# 0.852934048688  --new best, but so many dimensions\n",
    "\n",
    "#     'age', 'FullBath', 'HalfBath','BedroomAbvGr', 'Top5', 'LotArea', \n",
    "#     'GrLivArea', 'FancyHouse', 'TallHouse', 'LessDense', \n",
    "#     'GarageCars', 'TotalBsmtSF', \n",
    "#     'exterior', 'aircon', 'kitQ', 'BFT', \n",
    "#     'OverallCond', 'OverallQual'"
   ]
  },
  {
   "cell_type": "code",
   "execution_count": 24,
   "metadata": {
    "collapsed": true
   },
   "outputs": [],
   "source": [
    "#what the elastic net wants\n",
    "\n",
    "#nahhhh"
   ]
  },
  {
   "cell_type": "code",
   "execution_count": 25,
   "metadata": {
    "collapsed": true
   },
   "outputs": [],
   "source": [
    "#Reducing dimensions by heatmap\n",
    "#0.820734197937\n",
    "#'OverallQual', 'GrLivArea', 'GarageCars', 'age', 'kitQ', 'BFT', 'FancyHouse', 'Top5'"
   ]
  },
  {
   "cell_type": "code",
   "execution_count": 26,
   "metadata": {},
   "outputs": [
    {
     "data": {
      "text/plain": [
       "0.005892992270000064"
      ]
     },
     "execution_count": 26,
     "metadata": {},
     "output_type": "execute_result"
    }
   ],
   "source": [
    "#OLD MODEL W 'OverallQual' added\n",
    "#0.801135490774\n",
    "\n",
    "0.801135490774 - 0.795242498504"
   ]
  },
  {
   "cell_type": "code",
   "execution_count": 27,
   "metadata": {
    "collapsed": true
   },
   "outputs": [],
   "source": [
    "#ONLY ~0.006 IMPROVEMENT FROM ADDING OVERALLQUALITY"
   ]
  },
  {
   "cell_type": "code",
   "execution_count": 28,
   "metadata": {},
   "outputs": [
    {
     "data": {
      "text/plain": [
       "0.046811158257999974"
      ]
     },
     "execution_count": 28,
     "metadata": {},
     "output_type": "execute_result"
    }
   ],
   "source": [
    "#add kitQ instead (ie. OLD MODEL W 'kitQ' added)\n",
    "#0.842053656762\n",
    "0.842053656762 - 0.795242498504"
   ]
  },
  {
   "cell_type": "code",
   "execution_count": 29,
   "metadata": {
    "collapsed": true
   },
   "outputs": [],
   "source": [
    "# ~0.05 improvement from kitchen quality alone \n",
    "#if renovating kitchen quality to excellent is responsible for 5% of price, \n",
    "#it is a worthwhile investment to purchase houses with inferior kitchen, \n",
    "#and renovate to excellent"
   ]
  },
  {
   "cell_type": "code",
   "execution_count": 30,
   "metadata": {},
   "outputs": [
    {
     "data": {
      "text/plain": [
       "0.004917007729000056"
      ]
     },
     "execution_count": 30,
     "metadata": {},
     "output_type": "execute_result"
    }
   ],
   "source": [
    "#add BFT instead (ie. OLD MODEL W 'BFT' added)\n",
    "#0.800159506233\n",
    "\n",
    "#not good enough\n",
    "\n",
    "0.800159506233 - 0.795242498504"
   ]
  },
  {
   "cell_type": "code",
   "execution_count": null,
   "metadata": {
    "collapsed": true
   },
   "outputs": [],
   "source": []
  }
 ],
 "metadata": {
  "kernelspec": {
   "display_name": "Python 3",
   "language": "python",
   "name": "python3"
  },
  "language_info": {
   "codemirror_mode": {
    "name": "ipython",
    "version": 3
   },
   "file_extension": ".py",
   "mimetype": "text/x-python",
   "name": "python",
   "nbconvert_exporter": "python",
   "pygments_lexer": "ipython3",
   "version": "3.6.3"
  },
  "varInspector": {
   "cols": {
    "lenName": 16,
    "lenType": 16,
    "lenVar": 40
   },
   "kernels_config": {
    "python": {
     "delete_cmd_postfix": "",
     "delete_cmd_prefix": "del ",
     "library": "var_list.py",
     "varRefreshCmd": "print(var_dic_list())"
    },
    "r": {
     "delete_cmd_postfix": ") ",
     "delete_cmd_prefix": "rm(",
     "library": "var_list.r",
     "varRefreshCmd": "cat(var_dic_list()) "
    }
   },
   "types_to_exclude": [
    "module",
    "function",
    "builtin_function_or_method",
    "instance",
    "_Feature"
   ],
   "window_display": false
  }
 },
 "nbformat": 4,
 "nbformat_minor": 2
}
